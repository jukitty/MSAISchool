{
  "nbformat": 4,
  "nbformat_minor": 0,
  "metadata": {
    "colab": {
      "provenance": []
    },
    "kernelspec": {
      "name": "python3",
      "display_name": "Python 3"
    },
    "language_info": {
      "name": "python"
    }
  },
  "cells": [
    {
      "cell_type": "code",
      "execution_count": null,
      "metadata": {
        "id": "Y0UCSi_Itx84"
      },
      "outputs": [],
      "source": [
        "import numpy as np\n",
        "import matplotlib.pyplot as plt\n",
        "plt.style.use(['magma'])"
      ]
    },
    {
      "cell_type": "code",
      "source": [
        "x = np.array(3)\n",
        "print(x)\n",
        "print(x.shape)  # 0차원은 모양이 없기 때문에 비어있다.\n",
        "print(np.ndim(x)) # 차원 없다."
      ],
      "metadata": {
        "colab": {
          "base_uri": "https://localhost:8080/"
        },
        "id": "a11xb2e3u5OL",
        "outputId": "f2255105-2711-4928-bd1c-9084538cd83c"
      },
      "execution_count": null,
      "outputs": [
        {
          "output_type": "stream",
          "name": "stdout",
          "text": [
            "3\n",
            "()\n",
            "0\n"
          ]
        }
      ]
    },
    {
      "cell_type": "code",
      "source": [
        "# 벡터 (1차원 텐서)\n",
        "a = np.array([1,2,3,4])\n",
        "b = np.array([5,6,7,8])\n",
        "\n",
        "c = a + b\n",
        "\n",
        "print(c)\n",
        "print(c.shape)  # 1차원 tensor\n",
        "print(np.ndim(c))"
      ],
      "metadata": {
        "colab": {
          "base_uri": "https://localhost:8080/"
        },
        "id": "2EcpxGuhu-iF",
        "outputId": "70328b79-aa10-4857-b86a-36bd8cf1adc7"
      },
      "execution_count": null,
      "outputs": [
        {
          "output_type": "stream",
          "name": "stdout",
          "text": [
            "[ 6  8 10 12]\n",
            "(4,)\n",
            "1\n"
          ]
        }
      ]
    },
    {
      "cell_type": "code",
      "source": [
        "c = a * b\n",
        "print(c)\n",
        "print(c.shape)\n",
        "print(np.ndim(c))"
      ],
      "metadata": {
        "colab": {
          "base_uri": "https://localhost:8080/"
        },
        "id": "UAK5rojmyz2B",
        "outputId": "4483fb8a-bc15-43d1-ea67-0fed850c1acb"
      },
      "execution_count": null,
      "outputs": [
        {
          "output_type": "stream",
          "name": "stdout",
          "text": [
            "[ 5 12 21 32]\n",
            "(4,)\n",
            "1\n"
          ]
        }
      ]
    },
    {
      "cell_type": "code",
      "source": [
        "# 스칼라와 벡터의 곱\n",
        "a = np.array(10)  # 스칼라 값\n",
        "b = np.array([1,2,3]) # 1차원 텐서\n",
        "c = a * b\n",
        "\n",
        "print(c)"
      ],
      "metadata": {
        "colab": {
          "base_uri": "https://localhost:8080/"
        },
        "id": "eviTZeqrzTu0",
        "outputId": "f68a5758-8a55-4708-8db4-a45b197c3a09"
      },
      "execution_count": null,
      "outputs": [
        {
          "output_type": "stream",
          "name": "stdout",
          "text": [
            "[10 20 30]\n"
          ]
        }
      ]
    },
    {
      "cell_type": "code",
      "source": [
        "# 전치행렬\n",
        "\n",
        "A = np.array([[1,2,3],[4,5,6]])\n",
        "print('A\\n', A)\n",
        "print('A.shape\\n', A.shape)\n",
        "print('-----------------')\n",
        "\n",
        "A_ = A.T\n",
        "print('A.T\\n', A_)\n",
        "print('A_.shape\\n', A_.shape)\n"
      ],
      "metadata": {
        "colab": {
          "base_uri": "https://localhost:8080/"
        },
        "id": "bNmEw1bpzi72",
        "outputId": "9181bf35-ed31-48b9-ca1a-fae9aecc68d0"
      },
      "execution_count": null,
      "outputs": [
        {
          "output_type": "stream",
          "name": "stdout",
          "text": [
            "A\n",
            " [[1 2 3]\n",
            " [4 5 6]]\n",
            "A.shape\n",
            " (2, 3)\n",
            "-----------------\n",
            "A.T\n",
            " [[1 4]\n",
            " [2 5]\n",
            " [3 6]]\n",
            "A_.shape\n",
            " (3, 2)\n"
          ]
        }
      ]
    },
    {
      "cell_type": "code",
      "source": [
        "from keras.datasets import mnist\n",
        "(train_images, train_labels), (test_images, test_labels) = mnist.load_data()    # trainset, testset"
      ],
      "metadata": {
        "colab": {
          "base_uri": "https://localhost:8080/"
        },
        "id": "q4BjOIlo2DUx",
        "outputId": "6e8cb856-78e5-4bec-f93f-0c15e6a14914"
      },
      "execution_count": null,
      "outputs": [
        {
          "output_type": "stream",
          "name": "stdout",
          "text": [
            "Downloading data from https://storage.googleapis.com/tensorflow/tf-keras-datasets/mnist.npz\n",
            "11490434/11490434 [==============================] - 0s 0us/step\n"
          ]
        }
      ]
    },
    {
      "cell_type": "code",
      "source": [
        "print(train_images.ndim)  # 3차원 데이터"
      ],
      "metadata": {
        "colab": {
          "base_uri": "https://localhost:8080/"
        },
        "id": "KaXvozrr4fzS",
        "outputId": "6822276f-9ed5-4bc3-b55c-30938a84cd88"
      },
      "execution_count": null,
      "outputs": [
        {
          "output_type": "stream",
          "name": "stdout",
          "text": [
            "3\n"
          ]
        }
      ]
    },
    {
      "cell_type": "code",
      "source": [
        "print(train_images.shape)"
      ],
      "metadata": {
        "colab": {
          "base_uri": "https://localhost:8080/"
        },
        "id": "07G3Q3e_5AlW",
        "outputId": "0cb88e61-ccb2-4511-c8b6-25a629be0189"
      },
      "execution_count": null,
      "outputs": [
        {
          "output_type": "stream",
          "name": "stdout",
          "text": [
            "(60000, 28, 28)\n"
          ]
        }
      ]
    },
    {
      "cell_type": "code",
      "source": [
        "print(train_images.dtype)"
      ],
      "metadata": {
        "colab": {
          "base_uri": "https://localhost:8080/"
        },
        "id": "6Owb7PLZ5N1q",
        "outputId": "525f3bbc-38db-4978-84d1-5ee98069c297"
      },
      "execution_count": null,
      "outputs": [
        {
          "output_type": "stream",
          "name": "stdout",
          "text": [
            "uint8\n"
          ]
        }
      ]
    },
    {
      "cell_type": "code",
      "source": [
        "temp_image = train_images[0]\n",
        "plt.imshow(temp_image, cmap='gray')"
      ],
      "metadata": {
        "colab": {
          "base_uri": "https://localhost:8080/",
          "height": 279
        },
        "id": "1l2tY_e47DdK",
        "outputId": "0611638b-ad96-466b-c1b9-bd180211a27e"
      },
      "execution_count": null,
      "outputs": [
        {
          "output_type": "execute_result",
          "data": {
            "text/plain": [
              "<matplotlib.image.AxesImage at 0x7f948310b290>"
            ]
          },
          "metadata": {},
          "execution_count": 14
        },
        {
          "output_type": "display_data",
          "data": {
            "text/plain": [
              "<Figure size 432x288 with 1 Axes>"
            ],
            "image/png": "[encoded data removed]"
          },
          "metadata": {}
        }
      ]
    },
    {
      "cell_type": "code",
      "source": [
        "train_labels[3]"
      ],
      "metadata": {
        "colab": {
          "base_uri": "https://localhost:8080/"
        },
        "id": "uZBn9QBk7FVK",
        "outputId": "7566b690-07f0-4cfd-97c0-3491024b1c29"
      },
      "execution_count": null,
      "outputs": [
        {
          "output_type": "execute_result",
          "data": {
            "text/plain": [
              "1"
            ]
          },
          "metadata": {},
          "execution_count": 15
        }
      ]
    },
    {
      "cell_type": "code",
      "source": [
        "# 번외편\n",
        "\n",
        "from sklearn import datasets\n",
        "from sklearn.neighbors import KNeighborsClassifier\n",
        "import joblib\n",
        "\n",
        "dataset = datasets.load_iris()\n",
        "\n",
        "X, y = dataset['data'], dataset['target']\n",
        "\n",
        "model = KNeighborsClassifier(n_neighbors=3)\n",
        "model.fit(X, y)\n",
        "\n",
        "joblib.dump(model, './knn_model.pkl')"
      ],
      "metadata": {
        "colab": {
          "base_uri": "https://localhost:8080/"
        },
        "id": "KFzo3qzTNwWV",
        "outputId": "ea3d5060-3d5d-4ca6-9f6d-504b618290f0"
      },
      "execution_count": null,
      "outputs": [
        {
          "output_type": "execute_result",
          "data": {
            "text/plain": [
              "['./knn_model.pkl']"
            ]
          },
          "metadata": {},
          "execution_count": 16
        }
      ]
    },
    {
      "cell_type": "code",
      "source": [
        "loaded_model = joblib.load('./knn_model.pkl')\n",
        "loaded_model.predict\n",
        "score = loaded_model.score(X,y)\n",
        "print('정확도: {score:.3f}'.format(score=score))"
      ],
      "metadata": {
        "colab": {
          "base_uri": "https://localhost:8080/"
        },
        "id": "_-L8tRaHOLS0",
        "outputId": "b3bdf3f2-6a7e-4f23-b25a-f64869ec017c"
      },
      "execution_count": null,
      "outputs": [
        {
          "output_type": "stream",
          "name": "stdout",
          "text": [
            "정확도: 0.960\n"
          ]
        }
      ]
    },
    {
      "cell_type": "code",
      "source": [],
      "metadata": {
        "id": "yUsMSZ6MOfL0"
      },
      "execution_count": null,
      "outputs": []
    }
  ]
}