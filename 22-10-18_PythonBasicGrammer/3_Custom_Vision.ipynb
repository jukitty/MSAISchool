{
  "nbformat": 4,
  "nbformat_minor": 0,
  "metadata": {
    "colab": {
      "provenance": []
    },
    "kernelspec": {
      "name": "python3",
      "display_name": "Python 3"
    },
    "language_info": {
      "name": "python"
    }
  },
  "cells": [
    {
      "cell_type": "code",
      "execution_count": null,
      "metadata": {
        "colab": {
          "base_uri": "https://localhost:8080/"
        },
        "id": "X1nC6tu53sdS",
        "outputId": "dc50e925-58df-4241-fa0b-4c47c538d692"
      },
      "outputs": [
        {
          "output_type": "stream",
          "name": "stdout",
          "text": [
            "Looking in indexes: https://pypi.org/simple, https://us-python.pkg.dev/colab-wheels/public/simple/\n",
            "Collecting azure-cognitiveservices-vision-customvision\n",
            "  Downloading azure_cognitiveservices_vision_customvision-3.1.0-py2.py3-none-any.whl (62 kB)\n",
            "\u001b[K     |████████████████████████████████| 62 kB 453 kB/s \n",
            "\u001b[?25hCollecting msrest>=0.5.0\n",
            "  Downloading msrest-0.7.1-py3-none-any.whl (85 kB)\n",
            "\u001b[K     |████████████████████████████████| 85 kB 3.3 MB/s \n",
            "\u001b[?25hCollecting azure-common~=1.1\n",
            "  Downloading azure_common-1.1.28-py2.py3-none-any.whl (14 kB)\n",
            "Requirement already satisfied: requests~=2.16 in /usr/local/lib/python3.7/dist-packages (from msrest>=0.5.0->azure-cognitiveservices-vision-customvision) (2.23.0)\n",
            "Collecting isodate>=0.6.0\n",
            "  Downloading isodate-0.6.1-py2.py3-none-any.whl (41 kB)\n",
            "\u001b[K     |████████████████████████████████| 41 kB 500 kB/s \n",
            "\u001b[?25hCollecting azure-core>=1.24.0\n",
            "  Downloading azure_core-1.26.0-py3-none-any.whl (178 kB)\n",
            "\u001b[K     |████████████████████████████████| 178 kB 58.1 MB/s \n",
            "\u001b[?25hRequirement already satisfied: requests-oauthlib>=0.5.0 in /usr/local/lib/python3.7/dist-packages (from msrest>=0.5.0->azure-cognitiveservices-vision-customvision) (1.3.1)\n",
            "Requirement already satisfied: certifi>=2017.4.17 in /usr/local/lib/python3.7/dist-packages (from msrest>=0.5.0->azure-cognitiveservices-vision-customvision) (2022.9.24)\n",
            "Requirement already satisfied: typing-extensions>=4.0.1 in /usr/local/lib/python3.7/dist-packages (from azure-core>=1.24.0->msrest>=0.5.0->azure-cognitiveservices-vision-customvision) (4.1.1)\n",
            "Requirement already satisfied: six>=1.11.0 in /usr/local/lib/python3.7/dist-packages (from azure-core>=1.24.0->msrest>=0.5.0->azure-cognitiveservices-vision-customvision) (1.15.0)\n",
            "Requirement already satisfied: urllib3!=1.25.0,!=1.25.1,<1.26,>=1.21.1 in /usr/local/lib/python3.7/dist-packages (from requests~=2.16->msrest>=0.5.0->azure-cognitiveservices-vision-customvision) (1.24.3)\n",
            "Requirement already satisfied: chardet<4,>=3.0.2 in /usr/local/lib/python3.7/dist-packages (from requests~=2.16->msrest>=0.5.0->azure-cognitiveservices-vision-customvision) (3.0.4)\n",
            "Requirement already satisfied: idna<3,>=2.5 in /usr/local/lib/python3.7/dist-packages (from requests~=2.16->msrest>=0.5.0->azure-cognitiveservices-vision-customvision) (2.10)\n",
            "Requirement already satisfied: oauthlib>=3.0.0 in /usr/local/lib/python3.7/dist-packages (from requests-oauthlib>=0.5.0->msrest>=0.5.0->azure-cognitiveservices-vision-customvision) (3.2.1)\n",
            "Installing collected packages: isodate, azure-core, msrest, azure-common, azure-cognitiveservices-vision-customvision\n",
            "Successfully installed azure-cognitiveservices-vision-customvision-3.1.0 azure-common-1.1.28 azure-core-1.26.0 isodate-0.6.1 msrest-0.7.1\n"
          ]
        }
      ],
      "source": [
        "!pip install azure-cognitiveservices-vision-customvision"
      ]
    },
    {
      "cell_type": "code",
      "source": [
        "from azure.cognitiveservices.vision.customvision.training import CustomVisionTrainingClient\n",
        "from azure.cognitiveservices.vision.customvision.training.models import ImageFileCreateEntry\n",
        "from azure.cognitiveservices.vision.customvision.training.models import ImageFileCreateBatch, ImageFileCreateEntry, Region\n",
        "from msrest.authentication import ApiKeyCredentials\n",
        "import os, time, uuid"
      ],
      "metadata": {
        "id": "jkAnSKT54H55"
      },
      "execution_count": null,
      "outputs": []
    },
    {
      "cell_type": "code",
      "source": [
        "ENDPOINT_Training = ''\n",
        "ENDPOINT_Prediction = ''\n",
        "\n",
        "training_key = ''\n",
        "prediction_key = ''\n",
        "prediction_resource_id = ''"
      ],
      "metadata": {
        "id": "3TKKrfrH6WhS"
      },
      "execution_count": null,
      "outputs": []
    },
    {
      "cell_type": "code",
      "source": [
        "credentials = ApiKeyCredentials(in_headers={\"Training-key\": training_key})\n",
        "trainer = CustomVisionTrainingClient(ENDPOINT_Training, credentials)"
      ],
      "metadata": {
        "id": "X8a2c5EC_jii"
      },
      "execution_count": null,
      "outputs": []
    },
    {
      "cell_type": "code",
      "source": [
        "print('Creating project...')\n",
        "project = trainer.create_project('Labuser3 Project')"
      ],
      "metadata": {
        "colab": {
          "base_uri": "https://localhost:8080/"
        },
        "id": "Bkykbs74ALdl",
        "outputId": "31aa30f9-b652-4033-abc1-0716b764f660"
      },
      "execution_count": null,
      "outputs": [
        {
          "output_type": "stream",
          "name": "stdout",
          "text": [
            "Creating project...\n"
          ]
        }
      ]
    },
    {
      "cell_type": "code",
      "source": [
        "Jajangmyeon_tag = trainer.create_tag(project.id, 'Jajangmyeon')\n",
        "Champon_tag = trainer.create_tag(project.id, 'Champon')\n",
        "Tangsuyug_tag = trainer.create_tag(project.id, 'Tangsuyug')"
      ],
      "metadata": {
        "id": "SL-Dgrk5GfPG"
      },
      "execution_count": null,
      "outputs": []
    },
    {
      "cell_type": "code",
      "source": [
        "import time"
      ],
      "metadata": {
        "id": "FxUXW7wPCgcc"
      },
      "execution_count": null,
      "outputs": []
    },
    {
      "cell_type": "code",
      "source": [
        "print('Training....')\n",
        "iteration = trainer.train_project(project.id)    #훈련시키기 명령\n",
        "\n",
        "while(iteration.status != 'Completed'):  #학습이 끝나지 않았으면 반복\n",
        "  iteration = trainer.get_iteration(project.id, iteration.id)\n",
        "  print('Training status' + iteration.status)\n",
        "\n",
        "  time.sleep(5)\n",
        "\n",
        "print('Done!')\n",
        "\n",
        "#여기까지 학습 자동화"
      ],
      "metadata": {
        "colab": {
          "base_uri": "https://localhost:8080/"
        },
        "id": "mgqqzXzvD2xR",
        "outputId": "1d8b3e7a-f074-4af0-ff6f-2a27fac73af0"
      },
      "execution_count": null,
      "outputs": [
        {
          "output_type": "stream",
          "name": "stdout",
          "text": [
            "Training....\n",
            "Training statusTraining\n",
            "Training statusTraining\n",
            "Training statusTraining\n",
            "Training statusTraining\n",
            "Training statusTraining\n",
            "Training statusTraining\n",
            "Training statusTraining\n",
            "Training statusTraining\n",
            "Training statusTraining\n",
            "Training statusTraining\n",
            "Training statusTraining\n",
            "Training statusTraining\n",
            "Training statusTraining\n",
            "Training statusTraining\n",
            "Training statusTraining\n",
            "Training statusTraining\n",
            "Training statusTraining\n",
            "Training statusTraining\n",
            "Training statusTraining\n",
            "Training statusTraining\n",
            "Training statusTraining\n",
            "Training statusTraining\n",
            "Training statusTraining\n",
            "Training statusTraining\n",
            "Training statusTraining\n",
            "Training statusTraining\n",
            "Training statusTraining\n",
            "Training statusTraining\n",
            "Training statusTraining\n",
            "Training statusTraining\n",
            "Training statusTraining\n",
            "Training statusTraining\n",
            "Training statusTraining\n",
            "Training statusTraining\n",
            "Training statusTraining\n",
            "Training statusTraining\n",
            "Training statusTraining\n",
            "Training statusTraining\n",
            "Training statusTraining\n",
            "Training statusTraining\n",
            "Training statusTraining\n",
            "Training statusTraining\n",
            "Training statusTraining\n",
            "Training statusTraining\n",
            "Training statusTraining\n",
            "Training statusTraining\n",
            "Training statusTraining\n",
            "Training statusTraining\n",
            "Training statusTraining\n",
            "Training statusTraining\n",
            "Training statusTraining\n",
            "Training statusTraining\n",
            "Training statusTraining\n",
            "Training statusTraining\n",
            "Training statusCompleted\n",
            "Done!\n"
          ]
        }
      ]
    },
    {
      "cell_type": "code",
      "source": [
        "from azure.cognitiveservices.vision.customvision.prediction import CustomVisionPredictionClient"
      ],
      "metadata": {
        "id": "6lcwgPwMFJrh"
      },
      "execution_count": null,
      "outputs": []
    },
    {
      "cell_type": "code",
      "source": [
        "from azure.cognitiveservices.vision.customvision.prediction import CustomVisionPredictionClientConfiguration\n",
        "prediction_credentials = ApiKeyCredentials(in_headers={'Prediction-key':prediction_key})\n",
        "predictor = CustomVisionPredictionClient(ENDPOINT_Prediction, prediction_credentials) # 예측이 가능한 객체"
      ],
      "metadata": {
        "id": "ypdSGOApcci2"
      },
      "execution_count": null,
      "outputs": []
    },
    {
      "cell_type": "code",
      "source": [
        "target_image_url = 'https://t2.daumcdn.net/thumb/R720x0/?fname=http://t1.daumcdn.net/brunch/service/user/3QTb/image/aqOqjbS-F38EmwKn5TYxPwpaRQo.jpg'  #이미지의 주소를 줘보자\n",
        "result = predictor.classify_image_url(project.id, 'greatwall', target_image_url)  #분석결과\n",
        "#여기 프로젝트 아이디에 볶붙 하자"
      ],
      "metadata": {
        "id": "inGmMY7mdaG7"
      },
      "execution_count": null,
      "outputs": []
    },
    {
      "cell_type": "code",
      "source": [
        "for prediction in result.predictions:\n",
        "  print('\\t' + prediction.tag_name + \": {0:.2f}%\".format(prediction.probability * 100))   #개별적으로 테스트"
      ],
      "metadata": {
        "id": "310aIYx_eHRT",
        "colab": {
          "base_uri": "https://localhost:8080/"
        },
        "outputId": "947bef96-c4cc-4b95-8bd8-b0c0fc3e2849"
      },
      "execution_count": null,
      "outputs": [
        {
          "output_type": "stream",
          "name": "stdout",
          "text": [
            "\tJajangmyeon: 96.07%\n",
            "\tChampon: 1.09%\n",
            "\tTangsuyug: 0.43%\n"
          ]
        }
      ]
    },
    {
      "cell_type": "code",
      "source": [],
      "metadata": {
        "id": "W7L-1ggDh2Yh"
      },
      "execution_count": null,
      "outputs": []
    }
  ]
}