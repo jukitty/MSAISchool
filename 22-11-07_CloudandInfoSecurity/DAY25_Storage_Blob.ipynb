{
  "nbformat": 4,
  "nbformat_minor": 0,
  "metadata": {
    "colab": {
      "provenance": [],
      "collapsed_sections": []
    },
    "kernelspec": {
      "name": "python3",
      "display_name": "Python 3"
    },
    "language_info": {
      "name": "python"
    }
  },
  "cells": [
    {
      "cell_type": "code",
      "execution_count": null,
      "metadata": {
        "colab": {
          "base_uri": "https://localhost:8080/"
        },
        "id": "5vtVLCPStkUc",
        "outputId": "4fbde946-7590-456a-bd3a-4e468f8f5a89"
      },
      "outputs": [
        {
          "output_type": "stream",
          "name": "stdout",
          "text": [
            "Looking in indexes: https://pypi.org/simple, https://us-python.pkg.dev/colab-wheels/public/simple/\n",
            "Collecting azure-storage-blob\n",
            "  Downloading azure_storage_blob-12.14.1-py3-none-any.whl (383 kB)\n",
            "\u001b[K     |████████████████████████████████| 383 kB 13.6 MB/s \n",
            "\u001b[?25hCollecting cryptography>=2.1.4\n",
            "  Downloading cryptography-38.0.3-cp36-abi3-manylinux_2_24_x86_64.whl (4.1 MB)\n",
            "\u001b[K     |████████████████████████████████| 4.1 MB 36.1 MB/s \n",
            "\u001b[?25hCollecting azure-core<2.0.0,>=1.24.2\n",
            "  Downloading azure_core-1.26.1-py3-none-any.whl (172 kB)\n",
            "\u001b[K     |████████████████████████████████| 172 kB 46.6 MB/s \n",
            "\u001b[?25hCollecting msrest>=0.7.1\n",
            "  Downloading msrest-0.7.1-py3-none-any.whl (85 kB)\n",
            "\u001b[K     |████████████████████████████████| 85 kB 2.0 MB/s \n",
            "\u001b[?25hRequirement already satisfied: six>=1.11.0 in /usr/local/lib/python3.7/dist-packages (from azure-core<2.0.0,>=1.24.2->azure-storage-blob) (1.15.0)\n",
            "Requirement already satisfied: requests>=2.18.4 in /usr/local/lib/python3.7/dist-packages (from azure-core<2.0.0,>=1.24.2->azure-storage-blob) (2.23.0)\n",
            "Requirement already satisfied: typing-extensions>=4.0.1 in /usr/local/lib/python3.7/dist-packages (from azure-core<2.0.0,>=1.24.2->azure-storage-blob) (4.1.1)\n",
            "Requirement already satisfied: cffi>=1.12 in /usr/local/lib/python3.7/dist-packages (from cryptography>=2.1.4->azure-storage-blob) (1.15.1)\n",
            "Requirement already satisfied: pycparser in /usr/local/lib/python3.7/dist-packages (from cffi>=1.12->cryptography>=2.1.4->azure-storage-blob) (2.21)\n",
            "Requirement already satisfied: requests-oauthlib>=0.5.0 in /usr/local/lib/python3.7/dist-packages (from msrest>=0.7.1->azure-storage-blob) (1.3.1)\n",
            "Requirement already satisfied: certifi>=2017.4.17 in /usr/local/lib/python3.7/dist-packages (from msrest>=0.7.1->azure-storage-blob) (2022.9.24)\n",
            "Collecting isodate>=0.6.0\n",
            "  Downloading isodate-0.6.1-py2.py3-none-any.whl (41 kB)\n",
            "\u001b[K     |████████████████████████████████| 41 kB 293 kB/s \n",
            "\u001b[?25hRequirement already satisfied: idna<3,>=2.5 in /usr/local/lib/python3.7/dist-packages (from requests>=2.18.4->azure-core<2.0.0,>=1.24.2->azure-storage-blob) (2.10)\n",
            "Requirement already satisfied: chardet<4,>=3.0.2 in /usr/local/lib/python3.7/dist-packages (from requests>=2.18.4->azure-core<2.0.0,>=1.24.2->azure-storage-blob) (3.0.4)\n",
            "Requirement already satisfied: urllib3!=1.25.0,!=1.25.1,<1.26,>=1.21.1 in /usr/local/lib/python3.7/dist-packages (from requests>=2.18.4->azure-core<2.0.0,>=1.24.2->azure-storage-blob) (1.24.3)\n",
            "Requirement already satisfied: oauthlib>=3.0.0 in /usr/local/lib/python3.7/dist-packages (from requests-oauthlib>=0.5.0->msrest>=0.7.1->azure-storage-blob) (3.2.2)\n",
            "Installing collected packages: isodate, azure-core, msrest, cryptography, azure-storage-blob\n",
            "Successfully installed azure-core-1.26.1 azure-storage-blob-12.14.1 cryptography-38.0.3 isodate-0.6.1 msrest-0.7.1\n"
          ]
        }
      ],
      "source": [
        "!pip install azure-storage-blob"
      ]
    },
    {
      "cell_type": "code",
      "source": [
        "# 필요한 패키지 불러오기\n",
        "\n",
        "import os, uuid # 파일 다운로드, uuid:임시변수\n",
        "from azure.storage.blob import BlobServiceClient, BlobClient, ContainerClient"
      ],
      "metadata": {
        "id": "q73oZd_5t9tB"
      },
      "execution_count": null,
      "outputs": []
    },
    {
      "cell_type": "code",
      "source": [
        "# Blob 서비스에 연결하기\n",
        "\n",
        "connect_string = 'DefaultEndpointsProtocol=https;AccountName=labuser3storage2;AccountKey=wHDUj4foRnixGsYyzwteay2zKB0Dy0hhjQq6CWg4AznFcONKlkAxTwsBiVViAOBKeN8v0n7zuHoA+AStkQJGcQ==;EndpointSuffix=core.windows.net'# 접근할 연결 문자열\n",
        "\n",
        "blob_service_client = BlobServiceClient.from_connection_string(connect_string) # Blob 서비스에 연결 한 클라이언트 생성됨"
      ],
      "metadata": {
        "id": "gs5JiYZ8umGu"
      },
      "execution_count": null,
      "outputs": []
    },
    {
      "cell_type": "code",
      "source": [
        "# Container 생성하기\n",
        "\n",
        "# 컨테이너 이름 매번 만들수는 없다.\n",
        "container_name = str(uuid.uuid4()) # 겹치지 않는 난수 숫자열 생성\n",
        "print(container_name)\n",
        "\n",
        "#실제 컨테이너 만드는 역할\n",
        "container_client =  blob_service_client.create_container(container_name) # 만든 컨테이너 이름으로 컨테이너 생성해주기 "
      ],
      "metadata": {
        "colab": {
          "base_uri": "https://localhost:8080/"
        },
        "id": "t50eiG2Zv50E",
        "outputId": "4086d5df-b875-4dd9-87b5-c8ef1f0dc762"
      },
      "execution_count": null,
      "outputs": [
        {
          "output_type": "stream",
          "name": "stdout",
          "text": [
            "96bb1ec7-41e6-4ceb-8fb6-3d73eab53876\n"
          ]
        }
      ]
    },
    {
      "cell_type": "code",
      "source": [
        "# Container에 데이터 업로드하기\n",
        "\n",
        "# 경로 지정\n",
        "local_path = './data' # Data 폴더 아래\n",
        "os.mkdir(local_path)  # Data 폴더 만들기\n",
        "\n",
        "local_file_name = str(uuid.uuid4()) + '.txt'  # 텍스트 파일\n",
        "upload_file_path = os.path.join(local_path, local_file_name) # 경로 합치기"
      ],
      "metadata": {
        "id": "SD-gPXFGwuP5"
      },
      "execution_count": null,
      "outputs": []
    },
    {
      "cell_type": "code",
      "source": [
        "# 업로드 할 파일 준비하기\n",
        "\n",
        "file = open(file=upload_file_path, mode='w') # 파일 쓰기모드로 새로 열기\n",
        "file.write('Hello Azure Storage')\n",
        "file.close # 꼭 닫아주기\n",
        "\n",
        "# 새로운 blob client 만들기 : upload 공간 확보\n",
        "blob_client = blob_service_client.get_blob_client(\n",
        "    container=container_name,\n",
        "    blob=local_file_name) # 업로드 파일 정보(경로)\n",
        "\n",
        "# Blob에 파일 업로드하기\n",
        "with open(file=upload_file_path, mode='rb') as data:   #binary 형태로 읽기 why? 파일이 깨질 수 가 있기 때문에\n",
        "  blob_client.upload_blob(data)"
      ],
      "metadata": {
        "id": "EiQseJ72x6q9"
      },
      "execution_count": null,
      "outputs": []
    },
    {
      "cell_type": "code",
      "source": [
        "# Blob 안에 있는 파일의 목록 확인 open상태 : conainer\n",
        "blob_list = container_client.list_blobs()\n",
        "for blob in blob_list:\n",
        "  print('\\t' + blob.name)"
      ],
      "metadata": {
        "colab": {
          "base_uri": "https://localhost:8080/"
        },
        "id": "oQ2bh906zhdJ",
        "outputId": "559e6dad-1804-4b26-8dfc-e11299a7e431"
      },
      "execution_count": null,
      "outputs": [
        {
          "output_type": "stream",
          "name": "stdout",
          "text": [
            "\tfccb713f-bdc6-4842-aa86-b4678b7d74b4.txt\n"
          ]
        }
      ]
    },
    {
      "cell_type": "code",
      "source": [
        "# upload된 파일 다운로드\n",
        "\n",
        "download_file_path = os.path.join(local_path, str.replace(local_file_name, '.txt', 'DOWNLOAD.txt'))\n",
        "\n",
        "# container_client 객체가 실제로 파일을 다운로드\n",
        "container_client = blob_service_client.get_container_client(container=container_name) # upload파일과 download 파일이 다를 수 있으니 체크\n",
        "\n",
        "# str으로 날라오면 이것을 코드로 보여줘야한다\n",
        "with open(file=download_file_path, mode='wb') as download_file:\n",
        "  download_file.write(container_client.download_blob(blob.name).readall()) # container client한테 전체 데이터 다운받도록하기"
      ],
      "metadata": {
        "id": "MvOcZgcJ1QKP"
      },
      "execution_count": null,
      "outputs": []
    },
    {
      "cell_type": "code",
      "source": [
        "# 실습한 자원 정리하기\n",
        "\n",
        "print('Press the Enter key to begin clean up')\n",
        "input()\n",
        "\n",
        "print('Deletint blob container...')\n",
        "container_client.delete_container()\n",
        "\n",
        "print('Deleting the local source and downloaded files...')# 다운받은 파일 정리\n",
        "os.remove(upload_file_path)\n",
        "os.remove(download_file_path)\n",
        "os.rmdir(local_path)\n",
        "\n",
        "print('Done')"
      ],
      "metadata": {
        "id": "NE3VQMMY2zYv"
      },
      "execution_count": null,
      "outputs": []
    }
  ]
}