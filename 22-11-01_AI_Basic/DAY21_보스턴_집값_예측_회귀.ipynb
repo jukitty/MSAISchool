{
  "nbformat": 4,
  "nbformat_minor": 0,
  "metadata": {
    "colab": {
      "provenance": []
    },
    "kernelspec": {
      "name": "python3",
      "display_name": "Python 3"
    },
    "language_info": {
      "name": "python"
    },
    "accelerator": "GPU",
    "gpuClass": "standard"
  },
  "cells": [
    {
      "cell_type": "code",
      "execution_count": null,
      "metadata": {
        "id": "xLXU20iOy8gK"
      },
      "outputs": [],
      "source": [
        "import keras\n",
        "import numpy as np\n",
        "import matplotlib.pyplot as plt"
      ]
    },
    {
      "cell_type": "code",
      "source": [
        "# 보스턴 주택 가격 데이터셋\n",
        "\n",
        "from keras.datasets import boston_housing\n",
        "(train_data, train_labels), (test_data, test_labels) = boston_housing.load_data()"
      ],
      "metadata": {
        "colab": {
          "base_uri": "https://localhost:8080/"
        },
        "id": "0fszzsqIzHP9",
        "outputId": "34c50813-16fb-4fbd-b8f1-828c061a4e89"
      },
      "execution_count": null,
      "outputs": [
        {
          "output_type": "stream",
          "name": "stdout",
          "text": [
            "Downloading data from https://storage.googleapis.com/tensorflow/tf-keras-datasets/boston_housing.npz\n",
            "57026/57026 [==============================] - 0s 0us/step\n"
          ]
        }
      ]
    },
    {
      "cell_type": "code",
      "source": [
        "train_data.shape"
      ],
      "metadata": {
        "colab": {
          "base_uri": "https://localhost:8080/"
        },
        "id": "h9xK-c_mza0z",
        "outputId": "6f9c9bfa-425f-4957-df6a-740f331e2be9"
      },
      "execution_count": null,
      "outputs": [
        {
          "output_type": "execute_result",
          "data": {
            "text/plain": [
              "(404, 13)"
            ]
          },
          "metadata": {},
          "execution_count": 3
        }
      ]
    },
    {
      "cell_type": "code",
      "source": [
        "test_data.shape"
      ],
      "metadata": {
        "colab": {
          "base_uri": "https://localhost:8080/"
        },
        "id": "wdj1L0hy0A0z",
        "outputId": "dcfa7ed6-48e1-4475-b332-1595ca8c2a62"
      },
      "execution_count": null,
      "outputs": [
        {
          "output_type": "execute_result",
          "data": {
            "text/plain": [
              "(102, 13)"
            ]
          },
          "metadata": {},
          "execution_count": 4
        }
      ]
    },
    {
      "cell_type": "code",
      "source": [
        "mean = train_data.mean(axis=0)"
      ],
      "metadata": {
        "id": "3OLLa4co0CV8"
      },
      "execution_count": null,
      "outputs": []
    },
    {
      "cell_type": "code",
      "source": [
        "train_data -= mean   # train_data = train_data - mean"
      ],
      "metadata": {
        "id": "z45iBtcu0GvT"
      },
      "execution_count": null,
      "outputs": []
    },
    {
      "cell_type": "code",
      "source": [
        "# 표준 편차 구하기\n",
        "\n",
        "std = train_data.std(axis=0)  # 축0으로 표준편차"
      ],
      "metadata": {
        "id": "0lZYphli0H4y"
      },
      "execution_count": null,
      "outputs": []
    },
    {
      "cell_type": "code",
      "source": [
        "train_data /= std     # train_data = train_data / std"
      ],
      "metadata": {
        "id": "-IlIxuW928O-"
      },
      "execution_count": null,
      "outputs": []
    },
    {
      "cell_type": "code",
      "source": [
        "train_data  # 0을 기점으로 변환되어 있다."
      ],
      "metadata": {
        "colab": {
          "base_uri": "https://localhost:8080/"
        },
        "id": "nWJP8xGl3Ifu",
        "outputId": "696a7d04-a401-49da-a51d-aa076eef0464"
      },
      "execution_count": null,
      "outputs": [
        {
          "output_type": "execute_result",
          "data": {
            "text/plain": [
              "array([[-0.27224633, -0.48361547, -0.43576161, ...,  1.14850044,\n",
              "         0.44807713,  0.8252202 ],\n",
              "       [-0.40342651,  2.99178419, -1.33391162, ..., -1.71818909,\n",
              "         0.43190599, -1.32920239],\n",
              "       [ 0.1249402 , -0.48361547,  1.0283258 , ...,  0.78447637,\n",
              "         0.22061726, -1.30850006],\n",
              "       ...,\n",
              "       [-0.40202987,  0.99079651, -0.7415148 , ..., -0.71712291,\n",
              "         0.07943894, -0.67776904],\n",
              "       [-0.17292018, -0.48361547,  1.24588095, ..., -1.71818909,\n",
              "        -0.98764362,  0.42083466],\n",
              "       [-0.40422614,  2.04394792, -1.20161456, ..., -1.30866202,\n",
              "         0.23317118, -1.15392266]])"
            ]
          },
          "metadata": {},
          "execution_count": 9
        }
      ]
    },
    {
      "cell_type": "code",
      "source": [
        "mean = test_data.mean(axis=0)\n",
        "test_data -= mean\n",
        "atd = test_data.std(axis = 0)"
      ],
      "metadata": {
        "id": "YzrAe3aW3K-w"
      },
      "execution_count": null,
      "outputs": []
    },
    {
      "cell_type": "code",
      "source": [
        "# 신경망 만들기\n",
        "\n",
        "from keras import models\n",
        "from keras import layers\n",
        "\n",
        "def build_model():\n",
        "  model = models.Sequential()\n",
        "  model.add(layers.Dense(64, activation='relu',input_shape=(train_data.shape[1],)))\n",
        "  model.add(layers.Dense(64, activation='relu'))\n",
        "  model.add(layers.Dense(1))\n",
        "\n",
        "  model.compile(optimizer='rmsprop', \n",
        "                loss='mse',\n",
        "                metrics=['mae'])\n",
        "  return model"
      ],
      "metadata": {
        "id": "p6R02SsA31xb"
      },
      "execution_count": null,
      "outputs": []
    },
    {
      "cell_type": "code",
      "source": [
        "# K-folder 검증\n",
        "\n",
        "k = 4\n",
        "num_epochs = 5\n",
        "\n",
        "num_val_samples = len(train_data) // k  # 폴더의 사이즈\n",
        "\n",
        "# 결과 저장 변수\n",
        "all_scores = []\n",
        "\n",
        "for i in range(k):\n",
        "  print('처리중인 폴드 #',i)\n",
        "\n",
        "  # 검증 데이터를 준비:k번째 분할\n",
        "  val_data = train_data[i * num_val_samples : (i+1) * num_val_samples]\n",
        "  val_labels = train_labels[i * num_val_samples : (i+1) * num_val_samples]\n",
        "  \n",
        "  # 훈련 데이터의 준비:\n",
        "  partial_train_data = np.concatenate([        # 검증 앞부분 뒷부분 묶어주기. 두개의 값을 하나로 합치기.\n",
        "    train_data[: i * num_val_samples],         # 검증 앞 부분\n",
        "    train_data[(i+1) * num_val_samples :]],    # 검증 뒷 부분\n",
        "    axis=0)  # 축 지정\n",
        "\n",
        "  # 라벨 데이터의 준비:\n",
        "  partial_train_labels = np.concatenate([\n",
        "    train_labels[: i * num_val_samples],\n",
        "    train_labels[(i+1) * num_val_samples :]],\n",
        "    axis=0)  # 축 지정\n",
        "  \n",
        "  # 모델 만들기\n",
        "  model = build_model()\n",
        "  model.fit(partial_train_data,\n",
        "            partial_train_labels,\n",
        "            epochs=num_epochs,  # 각 블록 20번씩 돌려보기\n",
        "            batch_size=1,\n",
        "            validation_data=(val_data, val_labels),\n",
        "            verbose=0)\n",
        "  \n",
        "  val_mse, val_mae = model.evaluate(val_data, val_labels, verbose=0)\n",
        "  all_scores.append(val_mae)"
      ],
      "metadata": {
        "colab": {
          "base_uri": "https://localhost:8080/"
        },
        "id": "0sgktoJe6oVl",
        "outputId": "8cb7bad9-0f94-4397-d053-8932657d2014"
      },
      "execution_count": null,
      "outputs": [
        {
          "output_type": "stream",
          "name": "stdout",
          "text": [
            "처리중인 폴드 # 0\n",
            "처리중인 폴드 # 1\n",
            "처리중인 폴드 # 2\n",
            "처리중인 폴드 # 3\n"
          ]
        }
      ]
    },
    {
      "cell_type": "code",
      "source": [
        "all_scores"
      ],
      "metadata": {
        "colab": {
          "base_uri": "https://localhost:8080/"
        },
        "id": "-cxQNepAISW-",
        "outputId": "4e4e6c5a-e0ca-4ebb-8836-8b8eb67f9f35"
      },
      "execution_count": null,
      "outputs": [
        {
          "output_type": "execute_result",
          "data": {
            "text/plain": [
              "[2.556385040283203, 2.6835460662841797, 2.52795147895813, 3.194617748260498]"
            ]
          },
          "metadata": {},
          "execution_count": 14
        }
      ]
    },
    {
      "cell_type": "code",
      "source": [
        "np.mean(all_scores)"
      ],
      "metadata": {
        "colab": {
          "base_uri": "https://localhost:8080/"
        },
        "id": "UtTa6powIkxg",
        "outputId": "35ff90f6-0e8f-418c-c9fd-ede329224dd5"
      },
      "execution_count": null,
      "outputs": [
        {
          "output_type": "execute_result",
          "data": {
            "text/plain": [
              "2.7406250834465027"
            ]
          },
          "metadata": {},
          "execution_count": 15
        }
      ]
    },
    {
      "cell_type": "code",
      "source": [
        "# K-folder 검증\n",
        "k = 4\n",
        "num_epochs = 5\n",
        "\n",
        "num_val_samples = len(train_data) // k #폴더의 사이즈\n",
        "all_scores = []\n",
        "\n",
        "for i in range(k):\n",
        "  print('처리중인 폴드 #',i)\n",
        "\n",
        "  # 검증 데이터를 준비: k번째 분할\n",
        "  val_data = train_data[i * num_val_samples : (i+1) * num_val_samples]\n",
        "  val_labels = train_labels[i * num_val_samples : (i+1) * num_val_samples]\n",
        "  \n",
        "  # 훈련 데이터의 준비:\n",
        "  partial_train_data = np.concatenate(\n",
        "    [train_data[: i * num_val_samples],\n",
        "    train_data[(i+1)*num_val_samples:]], axis=0)\n",
        "  \n",
        "  partial_train_labels = np.concatenate(\n",
        "    [train_labels[: i * num_val_samples],\n",
        "    train_labels[(i+1)*num_val_samples:]], axis=0)\n",
        "\n",
        "  model = build_model()\n",
        "  history = model.fit(partial_train_data,\n",
        "              partial_train_labels,\n",
        "              epochs=num_epochs,\n",
        "              batch_size=1,\n",
        "              validation_data=(val_data, val_labels),\n",
        "              verbose=0)\n",
        "  mae_history = history.history['mae']\n",
        "  \n",
        "  all_scores.append(mae_history)"
      ],
      "metadata": {
        "colab": {
          "base_uri": "https://localhost:8080/"
        },
        "id": "iaSLr_CvImKI",
        "outputId": "4ff4b92a-3f46-4453-8324-11b2113726a8"
      },
      "execution_count": null,
      "outputs": [
        {
          "output_type": "stream",
          "name": "stdout",
          "text": [
            "처리중인 폴드 # 0\n",
            "처리중인 폴드 # 1\n",
            "처리중인 폴드 # 2\n",
            "처리중인 폴드 # 3\n"
          ]
        }
      ]
    },
    {
      "cell_type": "code",
      "source": [
        "average_mae_history = [np.mean([x[i] for x in all_scores]) for i in range(num_epochs)]"
      ],
      "metadata": {
        "id": "KNXzC6GyOdVU"
      },
      "execution_count": null,
      "outputs": []
    },
    {
      "cell_type": "code",
      "source": [
        "plt.plot(range(1, len(average_mae_history)+1), average_mae_history)\n",
        "plt.xlabel('Epochs')\n",
        "plt.ylabel('Validation MAE')"
      ],
      "metadata": {
        "colab": {
          "base_uri": "https://localhost:8080/",
          "height": 296
        },
        "id": "DJiALYo9QM9P",
        "outputId": "cde0877d-efa0-4f9c-d54f-259ee08422d7"
      },
      "execution_count": null,
      "outputs": [
        {
          "output_type": "execute_result",
          "data": {
            "text/plain": [
              "Text(0, 0.5, 'Validation MAE')"
            ]
          },
          "metadata": {},
          "execution_count": 18
        },
        {
          "output_type": "display_data",
          "data": {
            "text/plain": [
              "<Figure size 432x288 with 1 Axes>"
            ],
            "image/png": "[encoded data removed]"
          },
          "metadata": {
            "needs_background": "light"
          }
        }
      ]
    },
    {
      "cell_type": "code",
      "source": [],
      "metadata": {
        "id": "lQfBqnK1Tskh"
      },
      "execution_count": null,
      "outputs": []
    }
  ]
}