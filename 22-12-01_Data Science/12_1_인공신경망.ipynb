{
  "nbformat": 4,
  "nbformat_minor": 0,
  "metadata": {
    "colab": {
      "provenance": []
    },
    "kernelspec": {
      "name": "python3",
      "display_name": "Python 3"
    },
    "language_info": {
      "name": "python"
    }
  },
  "cells": [
    {
      "cell_type": "markdown",
      "source": [
        "# 인공신경망\n",
        "실제 인간의 뇌에서 수행되는 신경망 방식을 사용한 컴퓨터 연산 방법   \n",
        "실제 뇌에서 뉴런간 정보 전달 방식을 모델링한 것"
      ],
      "metadata": {
        "id": "DtzE5zA7A2vu"
      }
    },
    {
      "cell_type": "markdown",
      "source": [
        "## 퍼셉트론\n",
        "신경망의 한 종류   \n",
        "\n",
        "입력값 X 를 가중치와 곱해서 모두 더한 값이 임계값 기준이 있는 노드"
      ],
      "metadata": {
        "id": "v4u-RZbVFf8f"
      }
    },
    {
      "cell_type": "code",
      "source": [
        "import pandas as pd\n",
        "data = pd.read_csv('data.csv')"
      ],
      "metadata": {
        "id": "e6H-KZzaA3Ho"
      },
      "execution_count": 21,
      "outputs": []
    },
    {
      "cell_type": "code",
      "source": [
        "data"
      ],
      "metadata": {
        "colab": {
          "base_uri": "https://localhost:8080/",
          "height": 424
        },
        "id": "NkCTHtPyHMwq",
        "outputId": "3e446455-dfe2-45c9-9686-f9763574f257"
      },
      "execution_count": 22,
      "outputs": [
        {
          "output_type": "execute_result",
          "data": {
            "text/plain": [
              "        x1     x2      y\n",
              "0     True   True  False\n",
              "1     True  False   True\n",
              "2     True  False   True\n",
              "3     True   True  False\n",
              "4     True   True  False\n",
              "..     ...    ...    ...\n",
              "995   True   True  False\n",
              "996   True   True  False\n",
              "997  False   True   True\n",
              "998  False  False  False\n",
              "999  False  False  False\n",
              "\n",
              "[1000 rows x 3 columns]"
            ],
            "text/html": [
              "\n",
              "  <div id=\"df-21f12858-a461-46dd-9cb2-ab0891b392a8\">\n",
              "    <div class=\"colab-df-container\">\n",
              "      <div>\n",
              "<style scoped>\n",
              "    .dataframe tbody tr th:only-of-type {\n",
              "        vertical-align: middle;\n",
              "    }\n",
              "\n",
              "    .dataframe tbody tr th {\n",
              "        vertical-align: top;\n",
              "    }\n",
              "\n",
              "    .dataframe thead th {\n",
              "        text-align: right;\n",
              "    }\n",
              "</style>\n",
              "<table border=\"1\" class=\"dataframe\">\n",
              "  <thead>\n",
              "    <tr style=\"text-align: right;\">\n",
              "      <th></th>\n",
              "      <th>x1</th>\n",
              "      <th>x2</th>\n",
              "      <th>y</th>\n",
              "    </tr>\n",
              "  </thead>\n",
              "  <tbody>\n",
              "    <tr>\n",
              "      <th>0</th>\n",
              "      <td>True</td>\n",
              "      <td>True</td>\n",
              "      <td>False</td>\n",
              "    </tr>\n",
              "    <tr>\n",
              "      <th>1</th>\n",
              "      <td>True</td>\n",
              "      <td>False</td>\n",
              "      <td>True</td>\n",
              "    </tr>\n",
              "    <tr>\n",
              "      <th>2</th>\n",
              "      <td>True</td>\n",
              "      <td>False</td>\n",
              "      <td>True</td>\n",
              "    </tr>\n",
              "    <tr>\n",
              "      <th>3</th>\n",
              "      <td>True</td>\n",
              "      <td>True</td>\n",
              "      <td>False</td>\n",
              "    </tr>\n",
              "    <tr>\n",
              "      <th>4</th>\n",
              "      <td>True</td>\n",
              "      <td>True</td>\n",
              "      <td>False</td>\n",
              "    </tr>\n",
              "    <tr>\n",
              "      <th>...</th>\n",
              "      <td>...</td>\n",
              "      <td>...</td>\n",
              "      <td>...</td>\n",
              "    </tr>\n",
              "    <tr>\n",
              "      <th>995</th>\n",
              "      <td>True</td>\n",
              "      <td>True</td>\n",
              "      <td>False</td>\n",
              "    </tr>\n",
              "    <tr>\n",
              "      <th>996</th>\n",
              "      <td>True</td>\n",
              "      <td>True</td>\n",
              "      <td>False</td>\n",
              "    </tr>\n",
              "    <tr>\n",
              "      <th>997</th>\n",
              "      <td>False</td>\n",
              "      <td>True</td>\n",
              "      <td>True</td>\n",
              "    </tr>\n",
              "    <tr>\n",
              "      <th>998</th>\n",
              "      <td>False</td>\n",
              "      <td>False</td>\n",
              "      <td>False</td>\n",
              "    </tr>\n",
              "    <tr>\n",
              "      <th>999</th>\n",
              "      <td>False</td>\n",
              "      <td>False</td>\n",
              "      <td>False</td>\n",
              "    </tr>\n",
              "  </tbody>\n",
              "</table>\n",
              "<p>1000 rows × 3 columns</p>\n",
              "</div>\n",
              "      <button class=\"colab-df-convert\" onclick=\"convertToInteractive('df-21f12858-a461-46dd-9cb2-ab0891b392a8')\"\n",
              "              title=\"Convert this dataframe to an interactive table.\"\n",
              "              style=\"display:none;\">\n",
              "        \n",
              "  <svg xmlns=\"http://www.w3.org/2000/svg\" height=\"24px\"viewBox=\"0 0 24 24\"\n",
              "       width=\"24px\">\n",
              "    <path d=\"M0 0h24v24H0V0z\" fill=\"none\"/>\n",
              "    <path d=\"M18.56 5.44l.94 2.06.94-2.06 2.06-.94-2.06-.94-.94-2.06-.94 2.06-2.06.94zm-11 1L8.5 8.5l.94-2.06 2.06-.94-2.06-.94L8.5 2.5l-.94 2.06-2.06.94zm10 10l.94 2.06.94-2.06 2.06-.94-2.06-.94-.94-2.06-.94 2.06-2.06.94z\"/><path d=\"M17.41 7.96l-1.37-1.37c-.4-.4-.92-.59-1.43-.59-.52 0-1.04.2-1.43.59L10.3 9.45l-7.72 7.72c-.78.78-.78 2.05 0 2.83L4 21.41c.39.39.9.59 1.41.59.51 0 1.02-.2 1.41-.59l7.78-7.78 2.81-2.81c.8-.78.8-2.07 0-2.86zM5.41 20L4 18.59l7.72-7.72 1.47 1.35L5.41 20z\"/>\n",
              "  </svg>\n",
              "      </button>\n",
              "      \n",
              "  <style>\n",
              "    .colab-df-container {\n",
              "      display:flex;\n",
              "      flex-wrap:wrap;\n",
              "      gap: 12px;\n",
              "    }\n",
              "\n",
              "    .colab-df-convert {\n",
              "      background-color: #E8F0FE;\n",
              "      border: none;\n",
              "      border-radius: 50%;\n",
              "      cursor: pointer;\n",
              "      display: none;\n",
              "      fill: #1967D2;\n",
              "      height: 32px;\n",
              "      padding: 0 0 0 0;\n",
              "      width: 32px;\n",
              "    }\n",
              "\n",
              "    .colab-df-convert:hover {\n",
              "      background-color: #E2EBFA;\n",
              "      box-shadow: 0px 1px 2px rgba(60, 64, 67, 0.3), 0px 1px 3px 1px rgba(60, 64, 67, 0.15);\n",
              "      fill: #174EA6;\n",
              "    }\n",
              "\n",
              "    [theme=dark] .colab-df-convert {\n",
              "      background-color: #3B4455;\n",
              "      fill: #D2E3FC;\n",
              "    }\n",
              "\n",
              "    [theme=dark] .colab-df-convert:hover {\n",
              "      background-color: #434B5C;\n",
              "      box-shadow: 0px 1px 3px 1px rgba(0, 0, 0, 0.15);\n",
              "      filter: drop-shadow(0px 1px 2px rgba(0, 0, 0, 0.3));\n",
              "      fill: #FFFFFF;\n",
              "    }\n",
              "  </style>\n",
              "\n",
              "      <script>\n",
              "        const buttonEl =\n",
              "          document.querySelector('#df-21f12858-a461-46dd-9cb2-ab0891b392a8 button.colab-df-convert');\n",
              "        buttonEl.style.display =\n",
              "          google.colab.kernel.accessAllowed ? 'block' : 'none';\n",
              "\n",
              "        async function convertToInteractive(key) {\n",
              "          const element = document.querySelector('#df-21f12858-a461-46dd-9cb2-ab0891b392a8');\n",
              "          const dataTable =\n",
              "            await google.colab.kernel.invokeFunction('convertToInteractive',\n",
              "                                                     [key], {});\n",
              "          if (!dataTable) return;\n",
              "\n",
              "          const docLinkHtml = 'Like what you see? Visit the ' +\n",
              "            '<a target=\"_blank\" href=https://colab.research.google.com/notebooks/data_table.ipynb>data table notebook</a>'\n",
              "            + ' to learn more about interactive tables.';\n",
              "          element.innerHTML = '';\n",
              "          dataTable['output_type'] = 'display_data';\n",
              "          await google.colab.output.renderOutput(dataTable, element);\n",
              "          const docLink = document.createElement('div');\n",
              "          docLink.innerHTML = docLinkHtml;\n",
              "          element.appendChild(docLink);\n",
              "        }\n",
              "      </script>\n",
              "    </div>\n",
              "  </div>\n",
              "  "
            ]
          },
          "metadata": {},
          "execution_count": 22
        }
      ]
    },
    {
      "cell_type": "code",
      "source": [
        "import torch\n",
        "import pandas as pd\n",
        "from torch import nn\n",
        "from torch import optim\n",
        "from torch.utils.data import Dataset, DataLoader\n",
        "\n",
        "class CustomDataset(Dataset):\n",
        "  def __init__(self, file_path):\n",
        "    df = pd.read_csv(file_path)\n",
        "    self.x1 = df.iloc[:, 0].values\n",
        "    self.x2 = df.iloc[:,1].values\n",
        "    self.y = df.iloc[:,2].values\n",
        "    self.length = len(df)\n",
        "\n",
        "  def __getitem__(self, index):\n",
        "    x = torch.FloatTensor([self.x1[index], self.x2[index]])\n",
        "    y = torch.FloatTensor([self.y[index]])\n",
        "    return x,y\n",
        "\n",
        "  def __len__(self):\n",
        "    return self.length\n",
        "\n",
        "\n",
        "class CustomModel(nn.Module):\n",
        "  def __init__(self):\n",
        "    super(CustomModel, self).__init__()\n",
        "\n",
        "    self.layer = nn.Sequential(\n",
        "        nn.Linear(2,1),\n",
        "        nn.Sigmoid()\n",
        "    )\n",
        "\n",
        "  def forward(self, x):\n",
        "    x = self.layer(x)\n",
        "    return x\n",
        "\n",
        "train_dataset = CustomDataset('data.csv')\n",
        "train_dataloader = DataLoader(train_dataset, batch_size=64, shuffle=True, drop_last=True)\n",
        "\n",
        "device = 'cuda' if torch.cuda.is_available() else 'cpu'\n",
        "\n",
        "model = CustomModel().to(device)\n",
        "criterion = nn.BCELoss().to(device)\n",
        "optimizer = optim.SGD(model.parameters(), lr=0.01)\n",
        "\n",
        "for epoch in range(10000):\n",
        "  cost = 0.0\n",
        "  for x,y in train_dataloader:\n",
        "    x = x.to(device)\n",
        "    y = y.to(device)\n",
        "\n",
        "    output = model(x)\n",
        "    loss = criterion(output, y)\n",
        "\n",
        "    optimizer.zero_grad()\n",
        "    loss.backward()\n",
        "    optimizer.step()\n",
        "\n",
        "    cost += loss\n",
        "\n",
        "  cost = cost/len(train_dataloader)\n",
        "\n",
        "  if (epoch + 1) % 1000 ==0:\n",
        "    print(f'Epoch : {epoch+1:4d}, Cost : {cost:.3f}')\n",
        "\n",
        "with torch.no_grad():\n",
        "  model.eval()\n",
        "  input = torch.FloatTensor([\n",
        "      [0,0],\n",
        "      [0,1],\n",
        "      [1,0],\n",
        "      [1,1]\n",
        "  ]).to(device)\n",
        "\n",
        "  outputs = model(input)\n",
        "\n",
        "print(outputs)\n",
        "# Cost : loss. loss가 줄어들어야 좋은 결과."
      ],
      "metadata": {
        "colab": {
          "base_uri": "https://localhost:8080/"
        },
        "id": "5Se1gy1NHORc",
        "outputId": "b9c87fe5-a73b-4b73-ded6-e425344493ce"
      },
      "execution_count": 23,
      "outputs": [
        {
          "output_type": "stream",
          "name": "stderr",
          "text": [
            "<ipython-input-23-0d660a3008fa>:16: DeprecationWarning: In future, it will be an error for 'np.bool_' scalars to be interpreted as an index\n",
            "  x = torch.FloatTensor([self.x1[index], self.x2[index]])\n",
            "<ipython-input-23-0d660a3008fa>:17: DeprecationWarning: In future, it will be an error for 'np.bool_' scalars to be interpreted as an index\n",
            "  y = torch.FloatTensor([self.y[index]])\n"
          ]
        },
        {
          "output_type": "stream",
          "name": "stdout",
          "text": [
            "Epoch : 1000, Cost : 0.693\n",
            "Epoch : 2000, Cost : 0.692\n",
            "Epoch : 3000, Cost : 0.692\n",
            "Epoch : 4000, Cost : 0.692\n",
            "Epoch : 5000, Cost : 0.692\n",
            "Epoch : 6000, Cost : 0.692\n",
            "Epoch : 7000, Cost : 0.692\n",
            "Epoch : 8000, Cost : 0.692\n",
            "Epoch : 9000, Cost : 0.692\n",
            "Epoch : 10000, Cost : 0.692\n",
            "tensor([[0.4673],\n",
            "        [0.4989],\n",
            "        [0.5038],\n",
            "        [0.5353]])\n"
          ]
        }
      ]
    },
    {
      "cell_type": "markdown",
      "source": [
        "### 생성자 의미 알아보기"
      ],
      "metadata": {
        "id": "LKvtAIMAUqcH"
      }
    },
    {
      "cell_type": "code",
      "source": [
        "class fruit():\n",
        "  def __init__(self) -> None:\n",
        "    self.cnt = 0\n",
        "    self.name = []\n",
        "\n",
        "  def add_fruit(self, name, size):\n",
        "     self.name.append(name)\n",
        "     self.cnt += 1\n",
        "     return True\n",
        "\n",
        "  def set_fruit(self, new_name):\n",
        "    self.name = new_name\n",
        "\n",
        "  def get_item(self):\n",
        "    return self.name\n",
        "\n",
        "  def __len__(self):\n",
        "    return self.cnt"
      ],
      "metadata": {
        "id": "2Jn96OHWPrQI"
      },
      "execution_count": 24,
      "outputs": []
    },
    {
      "cell_type": "code",
      "source": [
        "fruit_class = fruit()"
      ],
      "metadata": {
        "id": "CCOLIZ0wQRZU"
      },
      "execution_count": 25,
      "outputs": []
    },
    {
      "cell_type": "code",
      "source": [
        "fruit_class.add_fruit('apple',10)"
      ],
      "metadata": {
        "colab": {
          "base_uri": "https://localhost:8080/"
        },
        "id": "1Fa4KVMYQSPN",
        "outputId": "a8fd0b2d-db49-4dcb-9a75-b3034dcb1fa4"
      },
      "execution_count": 26,
      "outputs": [
        {
          "output_type": "execute_result",
          "data": {
            "text/plain": [
              "True"
            ]
          },
          "metadata": {},
          "execution_count": 26
        }
      ]
    },
    {
      "cell_type": "code",
      "source": [
        "fruit_class.add_fruit('banana',10)\n",
        "fruit_class.add_fruit('apple',10)"
      ],
      "metadata": {
        "id": "aa8IV2R6QTtU",
        "colab": {
          "base_uri": "https://localhost:8080/"
        },
        "outputId": "120f6307-5f16-4de8-9c05-05594b67f477"
      },
      "execution_count": 27,
      "outputs": [
        {
          "output_type": "execute_result",
          "data": {
            "text/plain": [
              "True"
            ]
          },
          "metadata": {},
          "execution_count": 27
        }
      ]
    },
    {
      "cell_type": "code",
      "source": [
        "len(fruit_class)"
      ],
      "metadata": {
        "colab": {
          "base_uri": "https://localhost:8080/"
        },
        "id": "-rSTVsc2QpoY",
        "outputId": "913fe363-2dce-47d0-f03d-27358adf8223"
      },
      "execution_count": 28,
      "outputs": [
        {
          "output_type": "execute_result",
          "data": {
            "text/plain": [
              "3"
            ]
          },
          "metadata": {},
          "execution_count": 28
        }
      ]
    },
    {
      "cell_type": "code",
      "source": [
        "dir(fruit_class)"
      ],
      "metadata": {
        "colab": {
          "base_uri": "https://localhost:8080/"
        },
        "id": "B3t_i2zeRJq7",
        "outputId": "b385973f-14d8-4eb1-8f1b-ab7a4d4e5412"
      },
      "execution_count": 29,
      "outputs": [
        {
          "output_type": "execute_result",
          "data": {
            "text/plain": [
              "['__class__',\n",
              " '__delattr__',\n",
              " '__dict__',\n",
              " '__dir__',\n",
              " '__doc__',\n",
              " '__eq__',\n",
              " '__format__',\n",
              " '__ge__',\n",
              " '__getattribute__',\n",
              " '__gt__',\n",
              " '__hash__',\n",
              " '__init__',\n",
              " '__init_subclass__',\n",
              " '__le__',\n",
              " '__len__',\n",
              " '__lt__',\n",
              " '__module__',\n",
              " '__ne__',\n",
              " '__new__',\n",
              " '__reduce__',\n",
              " '__reduce_ex__',\n",
              " '__repr__',\n",
              " '__setattr__',\n",
              " '__sizeof__',\n",
              " '__str__',\n",
              " '__subclasshook__',\n",
              " '__weakref__',\n",
              " 'add_fruit',\n",
              " 'cnt',\n",
              " 'get_item',\n",
              " 'name',\n",
              " 'set_fruit']"
            ]
          },
          "metadata": {},
          "execution_count": 29
        }
      ]
    },
    {
      "cell_type": "code",
      "source": [
        "fruit_class.get_item()"
      ],
      "metadata": {
        "colab": {
          "base_uri": "https://localhost:8080/"
        },
        "id": "9nukqwRbQrQy",
        "outputId": "07da5e23-1044-4a2b-e5e1-97190dfad1d4"
      },
      "execution_count": 30,
      "outputs": [
        {
          "output_type": "execute_result",
          "data": {
            "text/plain": [
              "['apple', 'banana', 'apple']"
            ]
          },
          "metadata": {},
          "execution_count": 30
        }
      ]
    },
    {
      "cell_type": "code",
      "source": [
        "fruit_class.name = ['1','2','3']"
      ],
      "metadata": {
        "id": "vswAOcf7RGTn"
      },
      "execution_count": 31,
      "outputs": []
    },
    {
      "cell_type": "code",
      "source": [
        "fruit_class.name"
      ],
      "metadata": {
        "colab": {
          "base_uri": "https://localhost:8080/"
        },
        "id": "Gk1pm414RYXy",
        "outputId": "b10463e8-271e-48fb-da0c-d6a06207df5e"
      },
      "execution_count": 32,
      "outputs": [
        {
          "output_type": "execute_result",
          "data": {
            "text/plain": [
              "['1', '2', '3']"
            ]
          },
          "metadata": {},
          "execution_count": 32
        }
      ]
    },
    {
      "cell_type": "markdown",
      "source": [
        "### 다층퍼셉트론 모델"
      ],
      "metadata": {
        "id": "cjoKXz72WHOd"
      }
    },
    {
      "cell_type": "code",
      "source": [
        "class CustomDataset(Dataset):\n",
        "  def __init__(self, file_path):\n",
        "    df = pd.read_csv(file_path)\n",
        "    self.x1 = df.iloc[:, 0].values\n",
        "    self.x2 = df.iloc[:,1].values\n",
        "    self.y = df.iloc[:,2].values\n",
        "    self.length = len(df)\n",
        "\n",
        "  def __getitem__(self, index):\n",
        "    x = torch.FloatTensor([self.x1[index], self.x2[index]])\n",
        "    y = torch.FloatTensor([self.y[index]])\n",
        "    return x,y\n",
        "\n",
        "  def __len__(self):\n",
        "    return self.length\n",
        "\n",
        "\n",
        "class CustomModel(nn.Module):\n",
        "  def __init__(self):\n",
        "    super(CustomModel, self).__init__()\n",
        "\n",
        "    self.layer1 = nn.Sequential(\n",
        "        nn.Linear(2,2),\n",
        "        nn.Sigmoid()\n",
        "    )\n",
        "    self.layer2 = nn.Sequential(\n",
        "        nn.Linear(2,1),\n",
        "        nn.Sigmoid()\n",
        "    )\n",
        "\n",
        "  def forward(self, x):\n",
        "    x = self.layer1(x)\n",
        "    x = self.layer2(x)\n",
        "    return x\n",
        "\n",
        "train_dataset = CustomDataset('data.csv')\n",
        "train_dataloader = DataLoader(train_dataset, batch_size=64, shuffle=True, drop_last=True)\n",
        "\n",
        "device = 'cuda' if torch.cuda.is_available() else 'cpu'\n",
        "print(device)\n",
        "\n",
        "model = CustomModel().to(device)\n",
        "criterion = nn.BCELoss().to(device)\n",
        "optimizer = optim.SGD(model.parameters(), lr=0.01)\n",
        "\n",
        "for epoch in range(10000):\n",
        "  cost = 0.0\n",
        "  for x,y in train_dataloader:\n",
        "    x = x.to(device)\n",
        "    y = y.to(device)\n",
        "\n",
        "    output = model(x)\n",
        "    loss = criterion(output, y)\n",
        "\n",
        "    optimizer.zero_grad()\n",
        "    loss.backward()\n",
        "    optimizer.step()\n",
        "\n",
        "    cost += loss\n",
        "\n",
        "  cost = cost/len(train_dataloader)\n",
        "\n",
        "  if (epoch + 1) % 1000 ==0:\n",
        "    print(f'Epoch : {epoch+1:4d}, Cost : {cost:.3f}')\n",
        "\n",
        "with torch.no_grad():\n",
        "  model.eval()\n",
        "  input = torch.FloatTensor([\n",
        "      [0,0],\n",
        "      [0,1],\n",
        "      [1,0],\n",
        "      [1,1]\n",
        "  ]).to(device)\n",
        "\n",
        "  outputs = model(input)\n",
        "\n",
        "print(outputs)\n",
        "print(outputs<=0.5)"
      ],
      "metadata": {
        "colab": {
          "base_uri": "https://localhost:8080/"
        },
        "id": "hhEUPrdHWGzJ",
        "outputId": "499ece76-7111-41a4-b898-99f7b926900c"
      },
      "execution_count": 33,
      "outputs": [
        {
          "output_type": "stream",
          "name": "stdout",
          "text": [
            "cpu\n"
          ]
        },
        {
          "output_type": "stream",
          "name": "stderr",
          "text": [
            "<ipython-input-33-ad2b978c3457>:10: DeprecationWarning: In future, it will be an error for 'np.bool_' scalars to be interpreted as an index\n",
            "  x = torch.FloatTensor([self.x1[index], self.x2[index]])\n",
            "<ipython-input-33-ad2b978c3457>:11: DeprecationWarning: In future, it will be an error for 'np.bool_' scalars to be interpreted as an index\n",
            "  y = torch.FloatTensor([self.y[index]])\n"
          ]
        },
        {
          "output_type": "stream",
          "name": "stdout",
          "text": [
            "Epoch : 1000, Cost : 0.688\n",
            "Epoch : 2000, Cost : 0.550\n",
            "Epoch : 3000, Cost : 0.384\n",
            "Epoch : 4000, Cost : 0.357\n",
            "Epoch : 5000, Cost : 0.346\n",
            "Epoch : 6000, Cost : 0.346\n",
            "Epoch : 7000, Cost : 0.345\n",
            "Epoch : 8000, Cost : 0.341\n",
            "Epoch : 9000, Cost : 0.340\n",
            "Epoch : 10000, Cost : 0.336\n",
            "tensor([[0.0058],\n",
            "        [0.5149],\n",
            "        [0.9943],\n",
            "        [0.5198]])\n",
            "tensor([[ True],\n",
            "        [False],\n",
            "        [False],\n",
            "        [False]])\n"
          ]
        }
      ]
    },
    {
      "cell_type": "code",
      "source": [
        "!pip install koreanize-matplotlib\n",
        "import numpy as np\n",
        "import koreanize_matplotlib\n",
        "import matplotlib.pyplot as plt"
      ],
      "metadata": {
        "colab": {
          "base_uri": "https://localhost:8080/"
        },
        "id": "CCYZbjE6WKBU",
        "outputId": "7e12f7cf-6fb5-44d1-ef36-e62c04d97eed"
      },
      "execution_count": 34,
      "outputs": [
        {
          "output_type": "stream",
          "name": "stdout",
          "text": [
            "Looking in indexes: https://pypi.org/simple, https://us-python.pkg.dev/colab-wheels/public/simple/\n",
            "Requirement already satisfied: koreanize-matplotlib in /usr/local/lib/python3.8/dist-packages (0.0.1)\n",
            "Requirement already satisfied: matplotlib in /usr/local/lib/python3.8/dist-packages (from koreanize-matplotlib) (3.2.2)\n",
            "Requirement already satisfied: kiwisolver>=1.0.1 in /usr/local/lib/python3.8/dist-packages (from matplotlib->koreanize-matplotlib) (1.4.4)\n",
            "Requirement already satisfied: numpy>=1.11 in /usr/local/lib/python3.8/dist-packages (from matplotlib->koreanize-matplotlib) (1.21.6)\n",
            "Requirement already satisfied: pyparsing!=2.0.4,!=2.1.2,!=2.1.6,>=2.0.1 in /usr/local/lib/python3.8/dist-packages (from matplotlib->koreanize-matplotlib) (3.0.9)\n",
            "Requirement already satisfied: cycler>=0.10 in /usr/local/lib/python3.8/dist-packages (from matplotlib->koreanize-matplotlib) (0.11.0)\n",
            "Requirement already satisfied: python-dateutil>=2.1 in /usr/local/lib/python3.8/dist-packages (from matplotlib->koreanize-matplotlib) (2.8.2)\n",
            "Requirement already satisfied: six>=1.5 in /usr/local/lib/python3.8/dist-packages (from python-dateutil>=2.1->matplotlib->koreanize-matplotlib) (1.15.0)\n"
          ]
        }
      ]
    },
    {
      "cell_type": "code",
      "source": [
        "def step(x):\n",
        "  return np.array(x >0, dtype=np.int)\n",
        "\n",
        "x = np.arange(-5.0,5.0,0.1)\n",
        "y = step(x)\n",
        "plt.title('Step Function')\n",
        "plt.plot(x,y)\n",
        "plt.grid()\n",
        "plt.show()\n",
        "# 연속함수가 아니어서 미분이 안됨."
      ],
      "metadata": {
        "colab": {
          "base_uri": "https://localhost:8080/",
          "height": 351
        },
        "id": "tcrxv--ObJ8_",
        "outputId": "83c2f79b-6da6-44dc-97ac-e8f270e0c04f"
      },
      "execution_count": 35,
      "outputs": [
        {
          "output_type": "stream",
          "name": "stderr",
          "text": [
            "<ipython-input-35-9e68345d13d4>:2: DeprecationWarning: `np.int` is a deprecated alias for the builtin `int`. To silence this warning, use `int` by itself. Doing this will not modify any behavior and is safe. When replacing `np.int`, you may wish to use e.g. `np.int64` or `np.int32` to specify the precision. If you wish to review your current use, check the release note link for additional information.\n",
            "Deprecated in NumPy 1.20; for more details and guidance: https://numpy.org/devdocs/release/1.20.0-notes.html#deprecations\n",
            "  return np.array(x >0, dtype=np.int)\n"
          ]
        },
        {
          "output_type": "display_data",
          "data": {
            "text/plain": [
              "<Figure size 432x288 with 1 Axes>"
            ],
            "image/png": "[encoded data removed]"
          },
          "metadata": {
            "needs_background": "light"
          }
        }
      ]
    },
    {
      "cell_type": "code",
      "source": [
        "# 시크모이드 함수\n",
        "def sigmoid(x):\n",
        "  return 1/(1+np.exp(-x))\n",
        "\n",
        "x = np.arange(-5.0, 5.0, 0.1)\n",
        "y = sigmoid(x)\n",
        "plt.plot(x,y)\n",
        "plt.title('Sigmoid Function')\n",
        "plt.show()\n",
        "# 히든 레이어가 2개였기 때문에 시그모이드 함수 사용해도 문제가 없다.\n",
        "# 미분하면 정규분포그래프처럼 되고, max값은 0.25."
      ],
      "metadata": {
        "colab": {
          "base_uri": "https://localhost:8080/",
          "height": 279
        },
        "id": "8EMVek8LbK6a",
        "outputId": "fa7b6103-8c4a-4a75-aebb-fd12a6b8d511"
      },
      "execution_count": 36,
      "outputs": [
        {
          "output_type": "display_data",
          "data": {
            "text/plain": [
              "<Figure size 432x288 with 1 Axes>"
            ],
            "image/png": "[encoded data removed]"
          },
          "metadata": {
            "needs_background": "light"
          }
        }
      ]
    },
    {
      "cell_type": "code",
      "source": [
        "x = np.arange(-5.0,5.0,0.1)\n",
        "y = np.tanh(x)\n",
        "plt.plot(x,y)\n",
        "plt.grid()\n",
        "plt.title('Tanh function')\n",
        "plt.show()\n"
      ],
      "metadata": {
        "colab": {
          "base_uri": "https://localhost:8080/",
          "height": 279
        },
        "id": "Rfpwfi_dbzh6",
        "outputId": "fa15a4f5-6ba0-423d-8323-2f7f36836b3a"
      },
      "execution_count": 37,
      "outputs": [
        {
          "output_type": "display_data",
          "data": {
            "text/plain": [
              "<Figure size 432x288 with 1 Axes>"
            ],
            "image/png": "[encoded data removed]"
          },
          "metadata": {
            "needs_background": "light"
          }
        }
      ]
    },
    {
      "cell_type": "code",
      "source": [
        "# ReLU\n",
        "def relu(x):\n",
        "  return np.maximum(0,x)\n",
        "\n",
        "x = np.arange(-5.0, 5.0, 0.1)\n",
        "plt.plot(x,relu(x))\n",
        "plt.grid()\n",
        "plt.title('ReLU Function')\n",
        "plt.show()"
      ],
      "metadata": {
        "colab": {
          "base_uri": "https://localhost:8080/",
          "height": 279
        },
        "id": "6Y1Gdim3eCBH",
        "outputId": "86320271-392b-43ae-ebe2-e7baf3c9bd28"
      },
      "execution_count": 38,
      "outputs": [
        {
          "output_type": "display_data",
          "data": {
            "text/plain": [
              "<Figure size 432x288 with 1 Axes>"
            ],
            "image/png": "[encoded data removed]"
          },
          "metadata": {
            "needs_background": "light"
          }
        }
      ]
    },
    {
      "cell_type": "code",
      "source": [
        "# 음수일 때도 정보를 유지해주는 활성함수\n",
        "a = 0.1\n",
        "\n",
        "def leaky_relu(x):\n",
        "  return np.maximum(a*x,x)\n",
        "\n",
        "plt.plot(x,leaky_relu(x))\n",
        "plt.grid()\n",
        "plt.title('Leaky ReLU')\n",
        "plt.show()"
      ],
      "metadata": {
        "colab": {
          "base_uri": "https://localhost:8080/",
          "height": 279
        },
        "id": "MSjjj_oOeC9O",
        "outputId": "ebea2b23-f277-4e5e-8742-475063caea25"
      },
      "execution_count": 39,
      "outputs": [
        {
          "output_type": "display_data",
          "data": {
            "text/plain": [
              "<Figure size 432x288 with 1 Axes>"
            ],
            "image/png": "[encoded data removed]"
          },
          "metadata": {
            "needs_background": "light"
          }
        }
      ]
    },
    {
      "cell_type": "code",
      "source": [
        "# Softmax\n",
        "x = np.arange(-5.0,5.0,0.1)\n",
        "y = np.exp(x)/np.sum(np.exp(x))\n",
        "\n",
        "plt.plot(x,y)\n",
        "plt.title('Softmax Function')\n",
        "plt.show()"
      ],
      "metadata": {
        "id": "csD9YaHDeLJ_",
        "colab": {
          "base_uri": "https://localhost:8080/",
          "height": 279
        },
        "outputId": "acf571fa-4d8c-4370-a93f-9db5149c816e"
      },
      "execution_count": 40,
      "outputs": [
        {
          "output_type": "display_data",
          "data": {
            "text/plain": [
              "<Figure size 432x288 with 1 Axes>"
            ],
            "image/png": "[encoded data removed]"
          },
          "metadata": {
            "needs_background": "light"
          }
        }
      ]
    },
    {
      "cell_type": "markdown",
      "source": [],
      "metadata": {
        "id": "doB7YrcJ2wf9"
      }
    },
    {
      "cell_type": "code",
      "source": [],
      "metadata": {
        "id": "U7QUdEWQeu5l"
      },
      "execution_count": 40,
      "outputs": []
    }
  ]
}